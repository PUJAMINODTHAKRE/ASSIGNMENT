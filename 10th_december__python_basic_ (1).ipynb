{
  "nbformat": 4,
  "nbformat_minor": 0,
  "metadata": {
    "colab": {
      "provenance": []
    },
    "kernelspec": {
      "name": "python3",
      "display_name": "Python 3"
    },
    "language_info": {
      "name": "python"
    }
  },
  "cells": [
    {
      "cell_type": "markdown",
      "source": [
        "ASSIGNMENT -1"
      ],
      "metadata": {
        "id": "41-aO3xP6M_9"
      }
    },
    {
      "cell_type": "markdown",
      "source": [
        "TOPIC : PYTHON BASICS VARIABES"
      ],
      "metadata": {
        "id": "HXfs-QKE6Dsc"
      }
    },
    {
      "cell_type": "markdown",
      "source": [
        "1)CODE TO SWAP TWO VARIABLES WITHOUT USING TEMPORARY VARIABLES"
      ],
      "metadata": {
        "id": "UMp3BCNF7p4v"
      }
    },
    {
      "cell_type": "code",
      "source": [
        "X = 6"
      ],
      "metadata": {
        "id": "pdK_G4FZPXwW"
      },
      "execution_count": 8,
      "outputs": []
    },
    {
      "cell_type": "code",
      "source": [
        "Y = 67"
      ],
      "metadata": {
        "id": "5PFUevgqPgZ3"
      },
      "execution_count": 9,
      "outputs": []
    },
    {
      "cell_type": "code",
      "source": [
        "X,Y = Y,X   #-------> TO SWAP VALUES OF VARIABLE"
      ],
      "metadata": {
        "id": "Y4XH4k91PjId"
      },
      "execution_count": 10,
      "outputs": []
    },
    {
      "cell_type": "code",
      "source": [
        "X   # X takes the values of y"
      ],
      "metadata": {
        "colab": {
          "base_uri": "https://localhost:8080/"
        },
        "id": "Gw38wdb4Pxuf",
        "outputId": "f1587608-7339-4253-e35d-23ed2292fda7"
      },
      "execution_count": 11,
      "outputs": [
        {
          "output_type": "execute_result",
          "data": {
            "text/plain": [
              "67"
            ]
          },
          "metadata": {},
          "execution_count": 11
        }
      ]
    },
    {
      "cell_type": "code",
      "source": [
        "Y  #takes the value of x"
      ],
      "metadata": {
        "colab": {
          "base_uri": "https://localhost:8080/"
        },
        "id": "yuVjQCIdPy9j",
        "outputId": "c843ca97-f282-4255-eb1f-02fcdab225ac"
      },
      "execution_count": 13,
      "outputs": [
        {
          "output_type": "execute_result",
          "data": {
            "text/plain": [
              "6"
            ]
          },
          "metadata": {},
          "execution_count": 13
        }
      ]
    },
    {
      "cell_type": "markdown",
      "source": [
        "2) code to calculate the area of rectangle"
      ],
      "metadata": {
        "id": "B31s7VeC7vO2"
      }
    },
    {
      "cell_type": "code",
      "source": [
        "length = int(input(\"Enter the length of rectangle in meter = \"))     # to take length as a input from the user."
      ],
      "metadata": {
        "colab": {
          "base_uri": "https://localhost:8080/"
        },
        "id": "8s21oDedRUIv",
        "outputId": "4340f7ac-df8b-4c3f-b685-ef2436f4f46e"
      },
      "execution_count": 22,
      "outputs": [
        {
          "name": "stdout",
          "output_type": "stream",
          "text": [
            "Enter the length of rectangle in meter = 45\n"
          ]
        }
      ]
    },
    {
      "cell_type": "code",
      "source": [
        "width = int(input(\"Enter the width of rectangle in meter =\"))  # to take width as a input from the user."
      ],
      "metadata": {
        "colab": {
          "base_uri": "https://localhost:8080/"
        },
        "id": "8MuL67hqSeSH",
        "outputId": "a74d391d-1ba8-48de-9aba-f642d971ae8c"
      },
      "execution_count": 29,
      "outputs": [
        {
          "name": "stdout",
          "output_type": "stream",
          "text": [
            "Enter the width of rectangle in meter =7\n"
          ]
        }
      ]
    },
    {
      "cell_type": "code",
      "source": [
        "area = length*width  # formula to calculate area of rectangle."
      ],
      "metadata": {
        "id": "S4rkBUPmS6Qt"
      },
      "execution_count": 30,
      "outputs": []
    },
    {
      "cell_type": "code",
      "source": [
        "print(\"Area of reactangle  = \",area,\"meter square\")   # to print area of rectangle."
      ],
      "metadata": {
        "colab": {
          "base_uri": "https://localhost:8080/"
        },
        "id": "2UaYEmyLTEB6",
        "outputId": "bc26a9ae-b607-42ca-db84-5aac3a6d32d6"
      },
      "execution_count": 31,
      "outputs": [
        {
          "output_type": "stream",
          "name": "stdout",
          "text": [
            "Area of reactangle  =  315 meter square\n"
          ]
        }
      ]
    },
    {
      "cell_type": "markdown",
      "source": [
        "3) code to converts temperature from celcius to ferenheit"
      ],
      "metadata": {
        "id": "XvVTFmvs7-9_"
      }
    },
    {
      "cell_type": "code",
      "source": [
        "temp = float(input(\"Enter the temperature in degree celcius = \"))  # to take temperature in degree celcius as a input from user"
      ],
      "metadata": {
        "colab": {
          "base_uri": "https://localhost:8080/"
        },
        "id": "Npaw65vfXuTC",
        "outputId": "b9d97041-e898-4fd7-c8ab-b656e56e7065"
      },
      "execution_count": 38,
      "outputs": [
        {
          "name": "stdout",
          "output_type": "stream",
          "text": [
            "Enter the temperature in degree celcius = 33\n"
          ]
        }
      ]
    },
    {
      "cell_type": "code",
      "source": [
        "F = (temp * 9/5) +32      # formula to convert degree into temperatre"
      ],
      "metadata": {
        "id": "lgeqheRVYJSd"
      },
      "execution_count": 44,
      "outputs": []
    },
    {
      "cell_type": "code",
      "source": [
        "print(\"temperature in ferenheit=\",F,\"degree\")  # to display temperature in ferenheit"
      ],
      "metadata": {
        "colab": {
          "base_uri": "https://localhost:8080/"
        },
        "id": "3yFYYjSDY_o7",
        "outputId": "8b6db518-1642-4e7d-d08d-c8fe57582ffb"
      },
      "execution_count": 45,
      "outputs": [
        {
          "output_type": "stream",
          "name": "stdout",
          "text": [
            "temperature in ferenheit= 91.4 degree\n"
          ]
        }
      ]
    },
    {
      "cell_type": "markdown",
      "source": [
        "STRING BASED QUESTIONS"
      ],
      "metadata": {
        "id": "ThF0zzXc6tOd"
      }
    },
    {
      "cell_type": "markdown",
      "source": [
        "1)code to takes a string as input and print length of the string"
      ],
      "metadata": {
        "id": "7VuAjAhd63O8"
      }
    },
    {
      "cell_type": "code",
      "source": [
        "str = input(\"enter the your name: \")  #to take string as a input"
      ],
      "metadata": {
        "colab": {
          "base_uri": "https://localhost:8080/"
        },
        "id": "W0muwd6jiAxh",
        "outputId": "eecba612-4ad1-43fa-d37f-ec8d858a550c"
      },
      "execution_count": 57,
      "outputs": [
        {
          "name": "stdout",
          "output_type": "stream",
          "text": [
            "enter the your name: thakur\n"
          ]
        }
      ]
    },
    {
      "cell_type": "code",
      "source": [
        "l = len(str)  #to determine length of entered string"
      ],
      "metadata": {
        "id": "GkG0q6aZiz6L"
      },
      "execution_count": 59,
      "outputs": []
    },
    {
      "cell_type": "code",
      "source": [
        "print(\"Length of a entred string =\",l)  # to print length of a string"
      ],
      "metadata": {
        "colab": {
          "base_uri": "https://localhost:8080/"
        },
        "id": "YnA2x3AVjkZE",
        "outputId": "f76e9dc9-dd27-47b8-9090-c151b8458359"
      },
      "execution_count": 60,
      "outputs": [
        {
          "output_type": "stream",
          "name": "stdout",
          "text": [
            "Length of a entred string = 6\n"
          ]
        }
      ]
    },
    {
      "cell_type": "markdown",
      "source": [
        "2) code to take a sentences from the user and count the no of vowels"
      ],
      "metadata": {
        "id": "ng6l1dQV699U"
      }
    },
    {
      "cell_type": "code",
      "source": [
        "sentence = input(\"write a sentence :\")  #to take a sentence as a input from user"
      ],
      "metadata": {
        "colab": {
          "base_uri": "https://localhost:8080/"
        },
        "id": "POGg6ofGk87U",
        "outputId": "7fd948e3-c020-47bc-c7d9-2f629e1b8d2d"
      },
      "execution_count": 91,
      "outputs": [
        {
          "name": "stdout",
          "output_type": "stream",
          "text": [
            "write a sentence :hello\n"
          ]
        }
      ]
    },
    {
      "cell_type": "code",
      "source": [
        "count = 0   #count initilized to zero"
      ],
      "metadata": {
        "id": "cuctnzlMlNCr"
      },
      "execution_count": 93,
      "outputs": []
    },
    {
      "cell_type": "code",
      "source": [
        "for i in sentence:\n",
        "  if(i=='A'or i=='E'or i=='I'or i=='O' or i=='U' or i=='a' or i=='e' or i=='i' or i=='o' or i=='u'):   #to count no of vowles\n",
        "    count = count + 1\n",
        ""
      ],
      "metadata": {
        "id": "1aNAk1yHo6ez"
      },
      "execution_count": 94,
      "outputs": []
    },
    {
      "cell_type": "code",
      "source": [
        "print(\"Number of vowels =\",count)"
      ],
      "metadata": {
        "colab": {
          "base_uri": "https://localhost:8080/"
        },
        "id": "7LRe9loNptnB",
        "outputId": "c310fddc-aba0-4ea9-8099-8d5811e35746"
      },
      "execution_count": 95,
      "outputs": [
        {
          "output_type": "stream",
          "name": "stdout",
          "text": [
            "Number of vowels = 2\n"
          ]
        }
      ]
    },
    {
      "cell_type": "markdown",
      "source": [
        "3)code to reverse order of characters using string slicing and to print reversed string"
      ],
      "metadata": {
        "id": "x7dl8TJS7Fz3"
      }
    },
    {
      "cell_type": "code",
      "source": [
        "str1 = \"this is my 1st python assingment\"    #given string"
      ],
      "metadata": {
        "id": "G8DC0ATSrPdV"
      },
      "execution_count": 106,
      "outputs": []
    },
    {
      "cell_type": "code",
      "source": [
        "str2 =str1[::-1]     #string slicing"
      ],
      "metadata": {
        "id": "qWpPjlzBrm1N"
      },
      "execution_count": 107,
      "outputs": []
    },
    {
      "cell_type": "code",
      "source": [
        "print(\"reversed string: \",str2)  #to print reversed string"
      ],
      "metadata": {
        "colab": {
          "base_uri": "https://localhost:8080/"
        },
        "id": "Xa0Dv2zprrdM",
        "outputId": "580a0934-a892-4587-8ef6-7681169c3521"
      },
      "execution_count": 108,
      "outputs": [
        {
          "output_type": "stream",
          "name": "stdout",
          "text": [
            "reversed string:  tnemgnissa nohtyp ts1 ym si siht\n"
          ]
        }
      ]
    },
    {
      "cell_type": "markdown",
      "source": [
        "4)code to takes a string as a input and to check it is palidrome or not"
      ],
      "metadata": {
        "id": "WiuUvOuO7Rm1"
      }
    },
    {
      "cell_type": "code",
      "source": [
        "Str = input(\"Enter a string::  \")   #to take a string as a input from user"
      ],
      "metadata": {
        "colab": {
          "base_uri": "https://localhost:8080/"
        },
        "id": "yoicyf1RuYdS",
        "outputId": "dd79a8ee-20b3-4c98-e026-fa657b1f00e8"
      },
      "execution_count": 151,
      "outputs": [
        {
          "name": "stdout",
          "output_type": "stream",
          "text": [
            "Enter a string::  Step on no pets.\n"
          ]
        }
      ]
    },
    {
      "cell_type": "code",
      "source": [
        "Str1 = Str[::-1]    #string slicing"
      ],
      "metadata": {
        "id": "P69sMaf-ux8M"
      },
      "execution_count": 152,
      "outputs": []
    },
    {
      "cell_type": "code",
      "source": [
        "print(\"reversed string::  \",Str1)   #to print reversed string"
      ],
      "metadata": {
        "colab": {
          "base_uri": "https://localhost:8080/"
        },
        "id": "32bejg96vq-i",
        "outputId": "a8a0a433-1fc8-47a0-c802-932759f8d37e"
      },
      "execution_count": 153,
      "outputs": [
        {
          "output_type": "stream",
          "name": "stdout",
          "text": [
            "reversed string::   .step on no petS\n"
          ]
        }
      ]
    },
    {
      "cell_type": "code",
      "source": [
        "Str2 =''.join(Str.lower().split())  #to remove space and convet a string into lower case"
      ],
      "metadata": {
        "id": "0fX6RyoDv2yk"
      },
      "execution_count": 154,
      "outputs": []
    },
    {
      "cell_type": "code",
      "source": [
        "Str3 =''.join(Str1.lower().split())"
      ],
      "metadata": {
        "id": "kj6hI-lbyf08"
      },
      "execution_count": 155,
      "outputs": []
    },
    {
      "cell_type": "code",
      "source": [
        "if (Str2 == Str3):        #loop to check a entred string is same forwards as a backwords\n",
        "  print(\"Entered string is a palidrome\")\n",
        "else:\n",
        "    print(\"Entered string is not a palidrome\")"
      ],
      "metadata": {
        "colab": {
          "base_uri": "https://localhost:8080/"
        },
        "id": "N7Ufos8V0M6y",
        "outputId": "31c9729f-a840-4655-d827-b38511b6b456"
      },
      "execution_count": 157,
      "outputs": [
        {
          "output_type": "stream",
          "name": "stdout",
          "text": [
            "Entered string is not a palidrome\n"
          ]
        }
      ]
    },
    {
      "cell_type": "markdown",
      "source": [
        "5)code to takes a string as a input and to remove all spaces from it and print modified string"
      ],
      "metadata": {
        "id": "znZJ0IFG7gUF"
      }
    },
    {
      "cell_type": "code",
      "source": [
        "string = input(\"Enter a string:=  \")   #to take a string as a input from user"
      ],
      "metadata": {
        "colab": {
          "base_uri": "https://localhost:8080/"
        },
        "id": "RVATGgcs3Zf2",
        "outputId": "5e0572d9-34b3-4db4-fb69-fe97a2e5a9d9"
      },
      "execution_count": 159,
      "outputs": [
        {
          "name": "stdout",
          "output_type": "stream",
          "text": [
            "Enter a string:=  hello friends \n"
          ]
        }
      ]
    },
    {
      "cell_type": "code",
      "source": [
        "string1 = ''.join(string.split()) #to remove all spaces in a  string"
      ],
      "metadata": {
        "id": "gei9JX6M3wWb"
      },
      "execution_count": 162,
      "outputs": []
    },
    {
      "cell_type": "code",
      "source": [
        "print(\"modified string :\",string1)   # to print modified string"
      ],
      "metadata": {
        "colab": {
          "base_uri": "https://localhost:8080/"
        },
        "id": "y11VyKWl4GrN",
        "outputId": "fed9cfba-a5f6-46de-d31d-81cc0712a3db"
      },
      "execution_count": 167,
      "outputs": [
        {
          "output_type": "stream",
          "name": "stdout",
          "text": [
            "modified string : hellofriends\n"
          ]
        }
      ]
    },
    {
      "cell_type": "code",
      "source": [],
      "metadata": {
        "id": "Ob5wn-mC4su8"
      },
      "execution_count": null,
      "outputs": []
    }
  ]
}